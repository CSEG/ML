{
 "cells": [
  {
   "cell_type": "code",
   "execution_count": 1,
   "metadata": {
    "collapsed": true
   },
   "outputs": [],
   "source": [
    "import matplotlib.pyplot as plt\n",
    "from matplotlib.colors import ListedColormap\n",
    "from matplotlib.colors import LinearSegmentedColormap\n",
    "import pylab as pl\n",
    "import numpy as np  \n",
    "%matplotlib inline"
   ]
  },
  {
   "cell_type": "markdown",
   "metadata": {},
   "source": [
    "#### Import data for the figure\n",
    "A subset from Figure 2 in:\n",
    "\n",
    "Alessandro Amato del Monte (2015), [Seismic petrophysics: Part 2](https://doi.org/10.1190/tle34060700.1), The Leading Edge, 34 (6), pages 700-704, and [SEG wiki](https://wiki.seg.org/wiki/Seismic_petrophysics:_Part_2)."
   ]
  },
  {
   "cell_type": "code",
   "execution_count": 2,
   "metadata": {
    "collapsed": true
   },
   "outputs": [],
   "source": [
    "data = np.loadtxt('aadm.txt', usecols = (0,1,3))"
   ]
  },
  {
   "cell_type": "code",
   "execution_count": 3,
   "metadata": {
    "collapsed": true
   },
   "outputs": [],
   "source": [
    "X = [[vpvs, ip] for vpvs, ip in zip(data[:,0], data[:,1])]\n",
    "Y = data[:,2]"
   ]
  },
  {
   "cell_type": "code",
   "execution_count": 4,
   "metadata": {
    "collapsed": true
   },
   "outputs": [],
   "source": [
    "plt.rcParams.update({'font.size': 17})"
   ]
  },
  {
   "cell_type": "markdown",
   "metadata": {},
   "source": [
    "#### Crossplot Vp/Vs ratio versus Ip"
   ]
  },
  {
   "cell_type": "code",
   "execution_count": 5,
   "metadata": {},
   "outputs": [
    {
     "data": {
      "image/png": "[encoded data removed]",
      "text/plain": [
       "<matplotlib.figure.Figure at 0x7b58dd8>"
      ]
     },
     "metadata": {},
     "output_type": "display_data"
    }
   ],
   "source": [
    "SSX = [X[i][0] for i in range(0, len(Y)) if Y[i]==2]\n",
    "SSY = [X[i][1] for i in range(0, len(Y)) if Y[i]==2]\n",
    "ShX = [X[i][0] for i in range(0, len(Y)) if Y[i]==1]\n",
    "ShY = [X[i][1] for i in range(0, len(Y)) if Y[i]==1]\n",
    "\n",
    "\n",
    "fig = plt.figure(figsize=(8, 8))\n",
    "\n",
    "ax3 = fig.add_subplot(1, 1, 1)\n",
    "\n",
    "\n",
    "ax3.scatter(SSX, SSY, c = 'r', s = 250)\n",
    "ax3.scatter(ShX, ShY, c = 'g', s = 250)\n",
    "plt.xlim(4500, 8000)\n",
    "plt.ylim(1.5, 3)\n",
    "\n",
    "plt.tick_params(axis='both', which='major')\n",
    "\n",
    "fig.text(0.5, 0.05, 'Ip', ha='center')\n",
    "fig.text(0.04, 0.5, 'Vp/Vs', va='center', rotation='vertical')\n",
    "\n",
    "fig.savefig('aadm.png', dpi=500, bbox_inches='tight', pad_inches=0.2)\n",
    "plt.show()"
   ]
  }
 ],
 "metadata": {
  "anaconda-cloud": {},
  "kernelspec": {
   "display_name": "Python [default]",
   "language": "python",
   "name": "python2"
  },
  "language_info": {
   "codemirror_mode": {
    "name": "ipython",
    "version": 2
   },
   "file_extension": ".py",
   "mimetype": "text/x-python",
   "name": "python",
   "nbconvert_exporter": "python",
   "pygments_lexer": "ipython2",
   "version": "2.7.13"
  }
 },
 "nbformat": 4,
 "nbformat_minor": 1
}
