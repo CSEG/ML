{
 "cells": [
  {
   "cell_type": "code",
   "execution_count": 1,
   "metadata": {
    "collapsed": true
   },
   "outputs": [],
   "source": [
    "import matplotlib.pyplot as plt\n",
    "from matplotlib.colors import ListedColormap\n",
    "from matplotlib.colors import LinearSegmentedColormap\n",
    "import pylab as pl\n",
    "import numpy as np  \n",
    "\n",
    "from sklearn.svm import SVC\n",
    "%matplotlib inline"
   ]
  },
  {
   "cell_type": "code",
   "execution_count": 2,
   "metadata": {
    "collapsed": true
   },
   "outputs": [],
   "source": [
    "plt.rcParams.update({'font.size': 17})"
   ]
  },
  {
   "cell_type": "markdown",
   "metadata": {},
   "source": [
    "#### Load porosity and permeability data\n",
    "\n",
    "From Douglas Cant and Valerie Ethier (1984). \n",
    "Lithology-Dependent Diagenetic Control of Reservoir Properties of Conglomerates, Falher Member, Elmworth Field, Alberta. AAPG Bulletin, 68 (8), pages 1044-1054.  Data accessed through [USGS Open-file Report 03-420A](https://pubs.usgs.gov/of/2003/ofr-03-420/ofr-03-420.html): Catalogue of Porosity and Permeability from Core Plugs in Siliciclastic Rocks.\n"
   ]
  },
  {
   "cell_type": "code",
   "execution_count": 3,
   "metadata": {
    "collapsed": true
   },
   "outputs": [],
   "source": [
    "data = np.loadtxt('9-Cant&Ethier-1994.txt', skiprows = 1, usecols=(0,1,2,3))"
   ]
  },
  {
   "cell_type": "markdown",
   "metadata": {},
   "source": [
    "#### Crossplot data"
   ]
  },
  {
   "cell_type": "code",
   "execution_count": 4,
   "metadata": {},
   "outputs": [
    {
     "data": {
      "image/png": "[encoded data removed]",
      "text/plain": [
       "<matplotlib.figure.Figure at 0x10da3ee90>"
      ]
     },
     "metadata": {},
     "output_type": "display_data"
    }
   ],
   "source": [
    "fig = plt.figure(figsize=(6,10))\n",
    "ax = plt.gca()\n",
    "ax.scatter( data[:,0], data[:,2], c = data[:,3], alpha = 0.5)\n",
    "ax.set_yscale('log')\n",
    "ax.set_xlim(0, 30)\n",
    "ax.set_ylim(0.1, 2000)\n",
    "plt.show()"
   ]
  },
  {
   "cell_type": "markdown",
   "metadata": {},
   "source": [
    "#### Split into feature and target variables"
   ]
  },
  {
   "cell_type": "code",
   "execution_count": 5,
   "metadata": {
    "collapsed": true
   },
   "outputs": [],
   "source": [
    "X = [[poro, perm] for poro, perm in zip(data[:-1,0], data[:-1,1])]\n",
    "Y = data[:-1,3]"
   ]
  },
  {
   "cell_type": "markdown",
   "metadata": {},
   "source": [
    "#### Create two models with different gamma parameter, fit the data"
   ]
  },
  {
   "cell_type": "code",
   "execution_count": 6,
   "metadata": {},
   "outputs": [
    {
     "data": {
      "text/plain": [
       "SVC(C=5, cache_size=200, class_weight=None, coef0=0.0,\n",
       "  decision_function_shape=None, degree=3, gamma=0.05, kernel='rbf',\n",
       "  max_iter=-1, probability=False, random_state=None, shrinking=True,\n",
       "  tol=0.001, verbose=False)"
      ]
     },
     "execution_count": 6,
     "metadata": {},
     "output_type": "execute_result"
    }
   ],
   "source": [
    "clf = SVC(C=5, kernel='rbf', degree=3, gamma=0.05)\n",
    "clf.fit(X, Y)"
   ]
  },
  {
   "cell_type": "code",
   "execution_count": 7,
   "metadata": {},
   "outputs": [
    {
     "data": {
      "text/plain": [
       "SVC(C=5, cache_size=200, class_weight=None, coef0=0.0,\n",
       "  decision_function_shape=None, degree=3, gamma=15, kernel='rbf',\n",
       "  max_iter=-1, probability=False, random_state=None, shrinking=True,\n",
       "  tol=0.001, verbose=False)"
      ]
     },
     "execution_count": 7,
     "metadata": {},
     "output_type": "execute_result"
    }
   ],
   "source": [
    "#clf1 = SVC(C=50000,  kernel='rbf', degree=3, gamma=15) # test regularization with too high gamma\n",
    "clf1 = SVC(C=5,  kernel='rbf', degree=3, gamma=15)\n",
    "clf1.fit(X, Y)"
   ]
  },
  {
   "cell_type": "markdown",
   "metadata": {},
   "source": [
    "#### Create a mesh to plot the decision regions; each region is assigned a different color\n",
    "\n",
    "Adapted from a plotting utility in Sebastian Rascka's [Python Machine Learning](https://github.com/rasbt/python-machine-learning-book-2nd-edition/blob/master/code/ch02/ch02.ipynb)."
   ]
  },
  {
   "cell_type": "code",
   "execution_count": 8,
   "metadata": {
    "collapsed": true
   },
   "outputs": [],
   "source": [
    "x_min = -1.; x_max = 10\n",
    "y_min = -1.5; y_max = 5"
   ]
  },
  {
   "cell_type": "code",
   "execution_count": 9,
   "metadata": {},
   "outputs": [],
   "source": [
    "h = 0.01  # step size in the mesh\n",
    "xx, yy = np.meshgrid(np.arange(x_min, x_max, h), np.arange(y_min, y_max, h))\n",
    "\n",
    "Z  = clf.predict(np.c_[xx.ravel(), yy.ravel()])\n",
    "Z1 = clf1.predict(np.c_[xx.ravel(), yy.ravel()])"
   ]
  },
  {
   "cell_type": "code",
   "execution_count": 10,
   "metadata": {
    "collapsed": true
   },
   "outputs": [],
   "source": [
    "Z = Z.reshape(xx.shape)\n",
    "Z1 = Z1.reshape(xx.shape)\n",
    "\n",
    "ssx = [X[i][0] for i in range(0, len(Y)) if Y[i]==1]\n",
    "cgx = [X[i][0] for i in range(0, len(Y)) if Y[i]==2]\n",
    "ssy = [X[i][1] for i in range(0, len(Y)) if Y[i]==1]\n",
    "cgy = [X[i][1] for i in range(0, len(Y)) if Y[i]==2]"
   ]
  },
  {
   "cell_type": "code",
   "execution_count": 11,
   "metadata": {
    "collapsed": true
   },
   "outputs": [],
   "source": [
    "colors = ['C1', 'C4']  # R -> G -> B\n",
    "n_bins = 2  \n",
    "cmap_name = 'my_list'\n",
    "cm = LinearSegmentedColormap.from_list(cmap_name, colors, N=n_bins)"
   ]
  },
  {
   "cell_type": "markdown",
   "metadata": {},
   "source": [
    "#### Plot the results"
   ]
  },
  {
   "cell_type": "code",
   "execution_count": 12,
   "metadata": {},
   "outputs": [
    {
     "data": {
      "image/png": "[encoded data removed]",
      "text/plain": [
       "<matplotlib.figure.Figure at 0x10fc63550>"
      ]
     },
     "metadata": {},
     "output_type": "display_data"
    }
   ],
   "source": [
    "fig, (ax3, ax4, ax5) = plt.subplots(figsize=(16, 12), ncols=3)\n",
    "\n",
    "ax3.imshow(Z*0, cmap='bone_r', extent=[x_min, x_max, y_min, y_max], alpha=.5, origin='lower', aspect = 3)\n",
    "ax3.scatter(ssx, ssy, c = 'r', s = 50)\n",
    "ax3.scatter(cgx, cgy, c = 'b', s = 50)\n",
    "\n",
    "ax4.imshow(Z, cmap=cm, extent=[x_min, x_max, y_min, y_max], alpha=.5, origin='lower', aspect = 3)\n",
    "ax4.scatter(ssx, ssy, c = 'r', s = 50)\n",
    "ax4.scatter(cgx, cgy, c = 'b', s = 50)\n",
    "\n",
    "ax5.imshow(Z1, cmap=cm, extent=[x_min, x_max, y_min, y_max], alpha=.5, origin='lower', aspect = 3)\n",
    "ax5.scatter(ssx, ssy, c = 'r', s = 50)\n",
    "ax5.scatter(cgx, cgy, c = 'b', s = 50)\n",
    "\n",
    "fig.text(0.5, 0.17, 'Porosity', ha='center')\n",
    "fig.text(0.08, 0.5, 'Logarithm of Permeability', va='center', rotation='vertical')\n",
    "\n",
    "fig.savefig('gamma.png', dpi=400, bbox_inches='tight', pad_inches=0.4)\n",
    "plt.show()"
   ]
  },
  {
   "cell_type": "code",
   "execution_count": null,
   "metadata": {
    "collapsed": true
   },
   "outputs": [],
   "source": []
  },
  {
   "cell_type": "code",
   "execution_count": null,
   "metadata": {
    "collapsed": true
   },
   "outputs": [],
   "source": []
  }
 ],
 "metadata": {
  "anaconda-cloud": {},
  "kernelspec": {
   "display_name": "Python [default]",
   "language": "python",
   "name": "python2"
  },
  "language_info": {
   "codemirror_mode": {
    "name": "ipython",
    "version": 2
   },
   "file_extension": ".py",
   "mimetype": "text/x-python",
   "name": "python",
   "nbconvert_exporter": "python",
   "pygments_lexer": "ipython2",
   "version": "2.7.13"
  }
 },
 "nbformat": 4,
 "nbformat_minor": 1
}
